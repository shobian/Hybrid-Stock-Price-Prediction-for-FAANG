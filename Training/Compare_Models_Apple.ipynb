{
 "cells": [
  {
   "cell_type": "code",
   "execution_count": 5,
   "metadata": {},
   "outputs": [],
   "source": [
    "#######################################################\n",
    "# Compare_Models_Apple.ipynb\n",
    "#######################################################\n",
    "\n",
    "#############################\n",
    "# 1) Imports\n",
    "#############################\n",
    "\n",
    "import numpy as np\n",
    "import pandas as pd\n",
    "import matplotlib.pyplot as plt\n",
    "import seaborn as sns\n",
    "import warnings\n",
    "\n",
    "warnings.filterwarnings(\"ignore\")\n"
   ]
  },
  {
   "cell_type": "code",
   "execution_count": 3,
   "metadata": {},
   "outputs": [
    {
     "name": "stdout",
     "output_type": "stream",
     "text": [
      "Defaulting to user installation because normal site-packages is not writeable\n",
      "Collecting xgboost\n",
      "  Downloading xgboost-2.1.4-py3-none-macosx_12_0_arm64.whl.metadata (2.1 kB)\n",
      "Requirement already satisfied: numpy in /Users/shobians./Library/Python/3.9/lib/python/site-packages (from xgboost) (1.26.4)\n",
      "Requirement already satisfied: scipy in /Users/shobians./Library/Python/3.9/lib/python/site-packages (from xgboost) (1.13.1)\n",
      "Downloading xgboost-2.1.4-py3-none-macosx_12_0_arm64.whl (1.9 MB)\n",
      "\u001b[2K   \u001b[90m━━━━━━━━━━━━━━━━━━━━━━━━━━━━━━━━━━━━━━━━\u001b[0m \u001b[32m1.9/1.9 MB\u001b[0m \u001b[31m4.0 MB/s\u001b[0m eta \u001b[36m0:00:00\u001b[0ma \u001b[36m0:00:01\u001b[0m\n",
      "\u001b[?25hInstalling collected packages: xgboost\n",
      "Successfully installed xgboost-2.1.4\n"
     ]
    }
   ],
   "source": [
    "!pip install xgboost"
   ]
  },
  {
   "cell_type": "code",
   "execution_count": 6,
   "metadata": {},
   "outputs": [
    {
     "name": "stdout",
     "output_type": "stream",
     "text": [
      "Found existing installation: xgboost 2.1.4\n",
      "Uninstalling xgboost-2.1.4:\n",
      "  Successfully uninstalled xgboost-2.1.4\n",
      "Defaulting to user installation because normal site-packages is not writeable\n",
      "Collecting xgboost\n",
      "  Downloading xgboost-2.1.4-py3-none-macosx_12_0_arm64.whl.metadata (2.1 kB)\n",
      "Requirement already satisfied: numpy in /Users/shobians./Library/Python/3.9/lib/python/site-packages (from xgboost) (1.26.4)\n",
      "Requirement already satisfied: scipy in /Users/shobians./Library/Python/3.9/lib/python/site-packages (from xgboost) (1.13.1)\n",
      "Downloading xgboost-2.1.4-py3-none-macosx_12_0_arm64.whl (1.9 MB)\n",
      "\u001b[2K   \u001b[90m━━━━━━━━━━━━━━━━━━━━━━━━━━━━━━━━━━━━━━━━\u001b[0m \u001b[32m1.9/1.9 MB\u001b[0m \u001b[31m5.8 MB/s\u001b[0m eta \u001b[36m0:00:00\u001b[0ma \u001b[36m0:00:01\u001b[0m\n",
      "\u001b[?25hInstalling collected packages: xgboost\n",
      "Successfully installed xgboost-2.1.4\n"
     ]
    }
   ],
   "source": [
    "!pip uninstall xgboost -y\n",
    "!pip install xgboost --no-cache-dir"
   ]
  },
  {
   "cell_type": "code",
   "execution_count": 1,
   "metadata": {},
   "outputs": [
    {
     "name": "stderr",
     "output_type": "stream",
     "text": [
      "/Users/shobians./Library/Python/3.9/lib/python/site-packages/urllib3/__init__.py:35: NotOpenSSLWarning: urllib3 v2 only supports OpenSSL 1.1.1+, currently the 'ssl' module is compiled with 'LibreSSL 2.8.3'. See: https://github.com/urllib3/urllib3/issues/3020\n",
      "  warnings.warn(\n"
     ]
    }
   ],
   "source": [
    "\n",
    "# ML models\n",
    "from sklearn.linear_model import LinearRegression\n",
    "from sklearn.ensemble import RandomForestRegressor\n",
    "from xgboost import XGBRegressor\n",
    "from tensorflow.keras.models import Sequential\n",
    "from tensorflow.keras.layers import Dense\n",
    "from tensorflow.keras.optimizers import Adam\n",
    "\n",
    "# For model evaluation\n",
    "from sklearn.metrics import mean_squared_error, r2_score\n",
    "from math import sqrt"
   ]
  },
  {
   "cell_type": "code",
   "execution_count": 2,
   "metadata": {},
   "outputs": [],
   "source": [
    "\n",
    "#############################\n",
    "# 2) Helper functions for technical indicators\n",
    "#############################\n",
    "\n",
    "def compute_rsi(series, period=14):\n",
    "    \"\"\"\n",
    "    Simple RSI calculation with rolling means of gains/losses.\n",
    "    \"\"\"\n",
    "    delta = series.diff()\n",
    "    gains = delta.where(delta > 0, 0.0)\n",
    "    losses = -delta.where(delta < 0, 0.0)\n",
    "    avg_gain = gains.rolling(window=period).mean()\n",
    "    avg_loss = losses.rolling(window=period).mean()\n",
    "    rs = avg_gain / (avg_loss + 1e-9)\n",
    "    rsi = 100.0 - (100.0 / (1.0 + rs))\n",
    "    return rsi\n",
    "\n",
    "def compute_macd(series, fastperiod=12, slowperiod=26, signalperiod=9):\n",
    "    \"\"\"\n",
    "    MACD using exponential moving averages (commonly used approach).\n",
    "    \"\"\"\n",
    "    ema_fast = series.ewm(span=fastperiod, adjust=False).mean()\n",
    "    ema_slow = series.ewm(span=slowperiod, adjust=False).mean()\n",
    "    macd_line = ema_fast - ema_slow\n",
    "    signal_line = macd_line.ewm(span=signalperiod, adjust=False).mean()\n",
    "    macd_hist = macd_line - signal_line\n",
    "    return macd_line, signal_line, macd_hist\n",
    "\n",
    "def compute_ma(series, window=20):\n",
    "    \"\"\"\n",
    "    Simple moving average (window=20 by default).\n",
    "    \"\"\"\n",
    "    return series.rolling(window=window).mean()\n",
    "\n"
   ]
  },
  {
   "cell_type": "code",
   "execution_count": null,
   "metadata": {},
   "outputs": [],
   "source": [
    "#############################\n",
    "# 3) Load Apple Price & News Data\n",
    "#############################\n",
    "\n",
    "#--- A) Load and clean Apple price data\n",
    "#   Adjust skiprows/header logic depending on your actual CSV format:\n",
    "df_price_raw = pd.read_csv(\"AAPL.csv\", skiprows=2, header=None)\n",
    "\n",
    "# We'll rename columns carefully based on your sample snippet:\n",
    "df_price_raw.columns = [\"Date\",\"Close\",\"High\",\"Low\",\"Open\",\"extra1\",\"extra2\",\"Volume\",\"extra3\",\"extra4\"]\n",
    "df_price_raw = df_price_raw[[\"Date\",\"Open\",\"High\",\"Low\",\"Close\",\"Volume\"]]\n",
    "\n",
    "df_price_raw[\"Date\"] = pd.to_datetime(df_price_raw[\"Date\"], errors=\"coerce\")\n",
    "df_price_raw.dropna(subset=[\"Date\"], inplace=True)\n",
    "df_price_raw.sort_values(\"Date\", inplace=True)\n",
    "df_price_raw.reset_index(drop=True, inplace=True)\n",
    "\n",
    "#--- B) Load Apple news data\n",
    "df_news = pd.read_csv(\"apple_news_data.csv\")\n",
    "df_news[\"Date\"] = pd.to_datetime(df_news[\"Date\"], errors=\"coerce\")\n",
    "df_news.dropna(subset=[\"Date\"], inplace=True)\n",
    "df_news.sort_values(\"Date\", inplace=True)\n",
    "df_news.reset_index(drop=True, inplace=True)\n",
    "\n"
   ]
  },
  {
   "cell_type": "code",
   "execution_count": 6,
   "metadata": {},
   "outputs": [],
   "source": [
    "#############################\n",
    "# 4) Merge on date\n",
    "#############################\n",
    "# df_merged = pd.merge(df_price_raw, df_news, on=\"Date\", how=\"inner\")\n",
    "\n",
    "df_merged = pd.read_csv(\"merged_news_stock_data.csv\")\n",
    "df_merged.sort_values(\"Date\", inplace=True)\n",
    "df_merged.dropna(subset=[\"Date\"], inplace=True)\n",
    "df_merged.reset_index(drop=True, inplace=True)\n"
   ]
  },
  {
   "cell_type": "code",
   "execution_count": 7,
   "metadata": {},
   "outputs": [],
   "source": [
    "#############################\n",
    "# 5) Compute Technical Indicators\n",
    "#############################\n",
    "df_merged[\"RSI\"] = compute_rsi(df_merged[\"Close_Price\"], period=14)\n",
    "macd_line, macd_signal, macd_hist = compute_macd(df_merged[\"Close_Price\"])\n",
    "df_merged[\"MACD_line\"] = macd_line\n",
    "df_merged[\"MACD_signal\"] = macd_signal\n",
    "df_merged[\"MACD_hist\"] = macd_hist\n",
    "df_merged[\"MA20\"] = compute_ma(df_merged[\"Close_Price\"], window=20)\n",
    "\n",
    "# Drop any rows with NaNs introduced by rolling calculations\n",
    "df_merged.dropna(inplace=True)\n",
    "df_merged.reset_index(drop=True, inplace=True)\n",
    "\n"
   ]
  },
  {
   "cell_type": "code",
   "execution_count": 8,
   "metadata": {},
   "outputs": [],
   "source": [
    "#############################\n",
    "# 6) Create next-day target (Regression)\n",
    "#############################\n",
    "# We'll try to predict the *next day's Close* price:\n",
    "df_merged[\"Close_next\"] = df_merged[\"Close_Price\"].shift(-1)\n",
    "df_merged.dropna(subset=[\"Close_next\"], inplace=True)\n",
    "\n"
   ]
  },
  {
   "cell_type": "code",
   "execution_count": 9,
   "metadata": {},
   "outputs": [],
   "source": [
    "#############################\n",
    "# 7) Choose your features\n",
    "#############################\n",
    "# From the PDF or your approach, we want to use RSI, MACD lines, MA20, plus sentiment columns.\n",
    "# Suppose the CSV has columns: sentiment_polarity, sentiment_neg, sentiment_neu, sentiment_pos\n",
    "feature_cols = [\n",
    "    \"RSI\", \n",
    "    \"MACD_line\",\"MACD_signal\",\"MACD_hist\",\n",
    "    \"MA20\",\n",
    "    \"sentiment_polarity\", \n",
    "    \"sentiment_neg\",\n",
    "    \"sentiment_neu\",\n",
    "    \"sentiment_pos\"\n",
    "]\n",
    "\n",
    "X = df_merged[feature_cols].copy()\n",
    "y = df_merged[\"Close_next\"].copy()\n",
    "\n"
   ]
  },
  {
   "cell_type": "code",
   "execution_count": 10,
   "metadata": {},
   "outputs": [
    {
     "ename": "AttributeError",
     "evalue": "Can only use .dt accessor with datetimelike values",
     "output_type": "error",
     "traceback": [
      "\u001b[0;31m---------------------------------------------------------------------------\u001b[0m",
      "\u001b[0;31mAttributeError\u001b[0m                            Traceback (most recent call last)",
      "Cell \u001b[0;32mIn[10], line 8\u001b[0m\n\u001b[1;32m      1\u001b[0m \u001b[38;5;66;03m#############################\u001b[39;00m\n\u001b[1;32m      2\u001b[0m \u001b[38;5;66;03m# 8) Partition by Year: Train, Validation, Test\u001b[39;00m\n\u001b[1;32m      3\u001b[0m \u001b[38;5;66;03m#############################\u001b[39;00m\n\u001b[1;32m      4\u001b[0m \n\u001b[1;32m      5\u001b[0m \u001b[38;5;66;03m# Let's assume we want train=2016-2019, valid=2020, test=2021+ \u001b[39;00m\n\u001b[1;32m      6\u001b[0m \u001b[38;5;66;03m# (Adjust these year boundaries as you like, depending on your dataset range)\u001b[39;00m\n\u001b[0;32m----> 8\u001b[0m df_merged[\u001b[38;5;124m\"\u001b[39m\u001b[38;5;124mYear\u001b[39m\u001b[38;5;124m\"\u001b[39m] \u001b[38;5;241m=\u001b[39m \u001b[43mdf_merged\u001b[49m\u001b[43m[\u001b[49m\u001b[38;5;124;43m\"\u001b[39;49m\u001b[38;5;124;43mDate\u001b[39;49m\u001b[38;5;124;43m\"\u001b[39;49m\u001b[43m]\u001b[49m\u001b[38;5;241;43m.\u001b[39;49m\u001b[43mdt\u001b[49m\u001b[38;5;241m.\u001b[39myear\n\u001b[1;32m      9\u001b[0m \u001b[38;5;66;03m# We'll keep the same indexing approach for X,y\u001b[39;00m\n\u001b[1;32m     11\u001b[0m train_mask \u001b[38;5;241m=\u001b[39m (df_merged[\u001b[38;5;124m\"\u001b[39m\u001b[38;5;124mYear\u001b[39m\u001b[38;5;124m\"\u001b[39m] \u001b[38;5;241m>\u001b[39m\u001b[38;5;241m=\u001b[39m \u001b[38;5;241m2016\u001b[39m) \u001b[38;5;241m&\u001b[39m (df_merged[\u001b[38;5;124m\"\u001b[39m\u001b[38;5;124mYear\u001b[39m\u001b[38;5;124m\"\u001b[39m] \u001b[38;5;241m<\u001b[39m\u001b[38;5;241m=\u001b[39m \u001b[38;5;241m2019\u001b[39m)\n",
      "File \u001b[0;32m~/Library/Python/3.9/lib/python/site-packages/pandas/core/generic.py:6299\u001b[0m, in \u001b[0;36mNDFrame.__getattr__\u001b[0;34m(self, name)\u001b[0m\n\u001b[1;32m   6292\u001b[0m \u001b[38;5;28;01mif\u001b[39;00m (\n\u001b[1;32m   6293\u001b[0m     name \u001b[38;5;129;01mnot\u001b[39;00m \u001b[38;5;129;01min\u001b[39;00m \u001b[38;5;28mself\u001b[39m\u001b[38;5;241m.\u001b[39m_internal_names_set\n\u001b[1;32m   6294\u001b[0m     \u001b[38;5;129;01mand\u001b[39;00m name \u001b[38;5;129;01mnot\u001b[39;00m \u001b[38;5;129;01min\u001b[39;00m \u001b[38;5;28mself\u001b[39m\u001b[38;5;241m.\u001b[39m_metadata\n\u001b[1;32m   6295\u001b[0m     \u001b[38;5;129;01mand\u001b[39;00m name \u001b[38;5;129;01mnot\u001b[39;00m \u001b[38;5;129;01min\u001b[39;00m \u001b[38;5;28mself\u001b[39m\u001b[38;5;241m.\u001b[39m_accessors\n\u001b[1;32m   6296\u001b[0m     \u001b[38;5;129;01mand\u001b[39;00m \u001b[38;5;28mself\u001b[39m\u001b[38;5;241m.\u001b[39m_info_axis\u001b[38;5;241m.\u001b[39m_can_hold_identifiers_and_holds_name(name)\n\u001b[1;32m   6297\u001b[0m ):\n\u001b[1;32m   6298\u001b[0m     \u001b[38;5;28;01mreturn\u001b[39;00m \u001b[38;5;28mself\u001b[39m[name]\n\u001b[0;32m-> 6299\u001b[0m \u001b[38;5;28;01mreturn\u001b[39;00m \u001b[38;5;28;43mobject\u001b[39;49m\u001b[38;5;241;43m.\u001b[39;49m\u001b[38;5;21;43m__getattribute__\u001b[39;49m\u001b[43m(\u001b[49m\u001b[38;5;28;43mself\u001b[39;49m\u001b[43m,\u001b[49m\u001b[43m \u001b[49m\u001b[43mname\u001b[49m\u001b[43m)\u001b[49m\n",
      "File \u001b[0;32m~/Library/Python/3.9/lib/python/site-packages/pandas/core/accessor.py:224\u001b[0m, in \u001b[0;36mCachedAccessor.__get__\u001b[0;34m(self, obj, cls)\u001b[0m\n\u001b[1;32m    221\u001b[0m \u001b[38;5;28;01mif\u001b[39;00m obj \u001b[38;5;129;01mis\u001b[39;00m \u001b[38;5;28;01mNone\u001b[39;00m:\n\u001b[1;32m    222\u001b[0m     \u001b[38;5;66;03m# we're accessing the attribute of the class, i.e., Dataset.geo\u001b[39;00m\n\u001b[1;32m    223\u001b[0m     \u001b[38;5;28;01mreturn\u001b[39;00m \u001b[38;5;28mself\u001b[39m\u001b[38;5;241m.\u001b[39m_accessor\n\u001b[0;32m--> 224\u001b[0m accessor_obj \u001b[38;5;241m=\u001b[39m \u001b[38;5;28;43mself\u001b[39;49m\u001b[38;5;241;43m.\u001b[39;49m\u001b[43m_accessor\u001b[49m\u001b[43m(\u001b[49m\u001b[43mobj\u001b[49m\u001b[43m)\u001b[49m\n\u001b[1;32m    225\u001b[0m \u001b[38;5;66;03m# Replace the property with the accessor object. Inspired by:\u001b[39;00m\n\u001b[1;32m    226\u001b[0m \u001b[38;5;66;03m# https://www.pydanny.com/cached-property.html\u001b[39;00m\n\u001b[1;32m    227\u001b[0m \u001b[38;5;66;03m# We need to use object.__setattr__ because we overwrite __setattr__ on\u001b[39;00m\n\u001b[1;32m    228\u001b[0m \u001b[38;5;66;03m# NDFrame\u001b[39;00m\n\u001b[1;32m    229\u001b[0m \u001b[38;5;28mobject\u001b[39m\u001b[38;5;241m.\u001b[39m\u001b[38;5;21m__setattr__\u001b[39m(obj, \u001b[38;5;28mself\u001b[39m\u001b[38;5;241m.\u001b[39m_name, accessor_obj)\n",
      "File \u001b[0;32m~/Library/Python/3.9/lib/python/site-packages/pandas/core/indexes/accessors.py:643\u001b[0m, in \u001b[0;36mCombinedDatetimelikeProperties.__new__\u001b[0;34m(cls, data)\u001b[0m\n\u001b[1;32m    640\u001b[0m \u001b[38;5;28;01melif\u001b[39;00m \u001b[38;5;28misinstance\u001b[39m(data\u001b[38;5;241m.\u001b[39mdtype, PeriodDtype):\n\u001b[1;32m    641\u001b[0m     \u001b[38;5;28;01mreturn\u001b[39;00m PeriodProperties(data, orig)\n\u001b[0;32m--> 643\u001b[0m \u001b[38;5;28;01mraise\u001b[39;00m \u001b[38;5;167;01mAttributeError\u001b[39;00m(\u001b[38;5;124m\"\u001b[39m\u001b[38;5;124mCan only use .dt accessor with datetimelike values\u001b[39m\u001b[38;5;124m\"\u001b[39m)\n",
      "\u001b[0;31mAttributeError\u001b[0m: Can only use .dt accessor with datetimelike values"
     ]
    }
   ],
   "source": [
    "#############################\n",
    "# 8) Partition by Year: Train, Validation, Test\n",
    "#############################\n",
    "\n",
    "# Let's assume we want train=2016-2019, valid=2020, test=2021+ \n",
    "# (Adjust these year boundaries as you like, depending on your dataset range)\n",
    "\n",
    "df_merged[\"Year\"] = df_merged[\"Date\"].dt.year\n",
    "# We'll keep the same indexing approach for X,y\n",
    "\n",
    "train_mask = (df_merged[\"Year\"] >= 2016) & (df_merged[\"Year\"] <= 2019)\n",
    "val_mask   = (df_merged[\"Year\"] == 2020)\n",
    "test_mask  = (df_merged[\"Year\"] >= 2021)\n",
    "\n",
    "X_train = X[train_mask].values\n",
    "y_train = y[train_mask].values\n",
    "\n",
    "X_val = X[val_mask].values\n",
    "y_val = y[val_mask].values\n",
    "\n",
    "X_test = X[test_mask].values\n",
    "y_test = y[test_mask].values\n",
    "\n",
    "print(\"Train shape:\", X_train.shape, y_train.shape)\n",
    "print(\"Val shape:  \", X_val.shape,   y_val.shape)\n",
    "print(\"Test shape: \", X_test.shape,  y_test.shape)\n",
    "\n"
   ]
  },
  {
   "cell_type": "code",
   "execution_count": null,
   "metadata": {},
   "outputs": [],
   "source": [
    "#############################\n",
    "# 9) Fit Multiple Models\n",
    "#############################\n",
    "\n",
    "# (A) Linear Regression\n",
    "lr_model = LinearRegression()\n",
    "lr_model.fit(X_train, y_train)\n",
    "\n",
    "# Evaluate on val\n",
    "y_val_pred_lr = lr_model.predict(X_val)\n",
    "rmse_val_lr = sqrt(mean_squared_error(y_val, y_val_pred_lr))\n",
    "r2_val_lr = r2_score(y_val, y_val_pred_lr)\n",
    "\n",
    "print(\"Linear Regression val RMSE:\", rmse_val_lr, \"R^2:\", r2_val_lr)\n",
    "\n",
    "# (B) Random Forest\n",
    "rf_model = RandomForestRegressor(n_estimators=100, max_depth=5, random_state=42)\n",
    "rf_model.fit(X_train, y_train)\n",
    "\n",
    "y_val_pred_rf = rf_model.predict(X_val)\n",
    "rmse_val_rf = sqrt(mean_squared_error(y_val, y_val_pred_rf))\n",
    "r2_val_rf = r2_score(y_val, y_val_pred_rf)\n",
    "\n",
    "print(\"RandomForest val RMSE:\", rmse_val_rf, \"R^2:\", r2_val_rf)\n",
    "\n",
    "# (C) XGBoost\n",
    "xgb_model = XGBRegressor(n_estimators=100, max_depth=5, random_state=42)\n",
    "xgb_model.fit(X_train, y_train,\n",
    "              eval_set=[(X_val, y_val)],\n",
    "              early_stopping_rounds=10,\n",
    "              verbose=False)\n",
    "\n",
    "y_val_pred_xgb = xgb_model.predict(X_val)\n",
    "rmse_val_xgb = sqrt(mean_squared_error(y_val, y_val_pred_xgb))\n",
    "r2_val_xgb = r2_score(y_val, y_val_pred_xgb)\n",
    "\n",
    "print(\"XGBoost val RMSE:\", rmse_val_xgb, \"R^2:\", r2_val_xgb)\n",
    "\n",
    "# (D) Simple Neural Network\n",
    "# e.g. an MLP with 2 hidden layers\n",
    "nn_model = Sequential()\n",
    "nn_model.add(Dense(32, input_dim=X_train.shape[1], activation='relu'))\n",
    "nn_model.add(Dense(16, activation='relu'))\n",
    "nn_model.add(Dense(1, activation='linear'))\n",
    "\n",
    "nn_model.compile(optimizer=Adam(learning_rate=0.001), loss='mse')\n",
    "\n",
    "# Train with validation data\n",
    "nn_model.fit(X_train, y_train,\n",
    "             validation_data=(X_val, y_val),\n",
    "             epochs=30,\n",
    "             batch_size=32,\n",
    "             verbose=0)\n",
    "\n",
    "y_val_pred_nn = nn_model.predict(X_val).flatten()\n",
    "rmse_val_nn = sqrt(mean_squared_error(y_val, y_val_pred_nn))\n",
    "r2_val_nn = r2_score(y_val, y_val_pred_nn)\n",
    "\n",
    "print(\"Neural Network val RMSE:\", rmse_val_nn, \"R^2:\", r2_val_nn)\n",
    "\n"
   ]
  },
  {
   "cell_type": "code",
   "execution_count": null,
   "metadata": {},
   "outputs": [],
   "source": [
    "#############################\n",
    "# 10) Select best model by validation RMSE, Evaluate on Test\n",
    "#############################\n",
    "\n",
    "val_results = {\n",
    "    \"LinearRegression\": (rmse_val_lr, r2_val_lr),\n",
    "    \"RandomForest\": (rmse_val_rf, r2_val_rf),\n",
    "    \"XGBoost\": (rmse_val_xgb, r2_val_xgb),\n",
    "    \"NeuralNet\": (rmse_val_nn, r2_val_nn)\n",
    "}\n",
    "\n",
    "# We can choose best by minimum RMSE\n",
    "best_model_name = min(val_results, key=lambda k: val_results[k][0])\n",
    "print(\"\\nBest model by val RMSE is:\", best_model_name)\n",
    "\n",
    "# Evaluate that best model on test set:\n",
    "if best_model_name == \"LinearRegression\":\n",
    "    y_test_pred = lr_model.predict(X_test)\n",
    "elif best_model_name == \"RandomForest\":\n",
    "    y_test_pred = rf_model.predict(X_test)\n",
    "elif best_model_name == \"XGBoost\":\n",
    "    y_test_pred = xgb_model.predict(X_test)\n",
    "else:\n",
    "    y_test_pred = nn_model.predict(X_test).flatten()\n",
    "\n",
    "rmse_test = sqrt(mean_squared_error(y_test, y_test_pred))\n",
    "r2_test = r2_score(y_test, y_test_pred)\n",
    "print(f\"\\nOn Test set, {best_model_name} => RMSE: {rmse_test:.4f}, R^2: {r2_test:.4f}\")\n",
    "\n"
   ]
  },
  {
   "cell_type": "code",
   "execution_count": null,
   "metadata": {},
   "outputs": [],
   "source": [
    "#############################\n",
    "# 11) Plot predictions vs actual (test)\n",
    "#############################\n",
    "\n",
    "plt.figure(figsize=(10,5))\n",
    "plt.plot(y_test, label='Actual', c='blue')\n",
    "plt.plot(y_test_pred, label='Predicted', c='red')\n",
    "plt.title(f\"{best_model_name} on Test Set - Next-Day Price Prediction\")\n",
    "plt.xlabel(\"Test Data Index\")\n",
    "plt.ylabel(\"Price\")\n",
    "plt.legend()\n",
    "plt.show()\n",
    "\n",
    "#############################\n",
    "# End\n",
    "#############################\n"
   ]
  }
 ],
 "metadata": {
  "kernelspec": {
   "display_name": "Python 3",
   "language": "python",
   "name": "python3"
  },
  "language_info": {
   "codemirror_mode": {
    "name": "ipython",
    "version": 3
   },
   "file_extension": ".py",
   "mimetype": "text/x-python",
   "name": "python",
   "nbconvert_exporter": "python",
   "pygments_lexer": "ipython3",
   "version": "3.9.6"
  }
 },
 "nbformat": 4,
 "nbformat_minor": 2
}
